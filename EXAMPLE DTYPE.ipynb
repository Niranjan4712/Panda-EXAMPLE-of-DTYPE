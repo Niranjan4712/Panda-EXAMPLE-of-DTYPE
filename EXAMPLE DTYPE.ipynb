{
 "cells": [
  {
   "cell_type": "markdown",
   "metadata": {},
   "source": [
    "# EXAMPLE DTYPE# "
   ]
  },
  {
   "cell_type": "code",
   "execution_count": 2,
   "metadata": {},
   "outputs": [
    {
     "name": "stdout",
     "output_type": "stream",
     "text": [
      "0    10\n",
      "1    20\n",
      "2    30\n",
      "3    40\n",
      "4    50\n",
      "dtype: int64\n",
      "\n",
      "0    10.1\n",
      "1    20.2\n",
      "2    30.3\n",
      "3    40.4\n",
      "4    50.5\n",
      "dtype: float64\n",
      "int64\n",
      "float64\n"
     ]
    }
   ],
   "source": [
    "import pandas as pd\n",
    "import numpy as np\n",
    "i = pd.Series([10,20,30,40,50]) \n",
    "j = pd.Series([10.1, 20.2, 30.3, 40.4, 50.5]) \n",
    "print(i)\n",
    "print()\n",
    "print(j)\n",
    "print(i.dtype)\n",
    "print(j.dtype)"
   ]
  },
  {
   "cell_type": "code",
   "execution_count": null,
   "metadata": {},
   "outputs": [],
   "source": []
  }
 ],
 "metadata": {
  "kernelspec": {
   "display_name": "Python 3",
   "language": "python",
   "name": "python3"
  },
  "language_info": {
   "codemirror_mode": {
    "name": "ipython",
    "version": 3
   },
   "file_extension": ".py",
   "mimetype": "text/x-python",
   "name": "python",
   "nbconvert_exporter": "python",
   "pygments_lexer": "ipython3",
   "version": "3.8.5"
  }
 },
 "nbformat": 4,
 "nbformat_minor": 4
}
